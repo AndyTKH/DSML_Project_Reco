{
 "cells": [
  {
   "cell_type": "markdown",
   "metadata": {
    "colab_type": "text",
    "id": "view-in-github"
   },
   "source": [
    "<a href=\"https://colab.research.google.com/github/prateekjoshi565/Fine-Tuning-BERT/blob/master/Fine_Tuning_BERT_for_Spam_Classification.ipynb\" target=\"_parent\"><img src=\"https://colab.research.google.com/assets/colab-badge.svg\" alt=\"Open In Colab\"/></a>"
   ]
  },
  {
   "cell_type": "markdown",
   "metadata": {
    "colab_type": "text",
    "id": "OFOTiqrtNvyy"
   },
   "source": [
    "# Import Library"
   ]
  },
  {
   "cell_type": "code",
   "execution_count": 1,
   "metadata": {
    "colab": {},
    "colab_type": "code",
    "id": "x4giRzM7NtHJ"
   },
   "outputs": [],
   "source": [
    "import numpy as np\n",
    "import pandas as pd\n",
    "import torch\n",
    "import torch.nn as nn\n",
    "from sklearn.metrics import classification_report\n",
    "import transformers\n",
    "from sklearn.metrics import accuracy_score\n",
    "import random\n",
    "\n",
    "\n",
    "# specify GPU or CPU\n",
    "device = torch.device(\"cuda\")"
   ]
  },
  {
   "cell_type": "code",
   "execution_count": null,
   "metadata": {},
   "outputs": [],
   "source": []
  },
  {
   "cell_type": "markdown",
   "metadata": {
    "colab_type": "text",
    "id": "kKd-Tj3hOMsZ"
   },
   "source": [
    "# Load Dataset"
   ]
  },
  {
   "cell_type": "code",
   "execution_count": 2,
   "metadata": {},
   "outputs": [],
   "source": [
    "#samples = list(open('original_desen.csv', \"r\").readlines())\n",
    "samples = list(open('desen_random_2k.txt', \"r\").readlines())\n",
    "\n",
    "# Take 80% of the data as fine-tuning dataset since 80% of the data was used for pre-training\n",
    "samples = samples[0:int(0.8*len(samples))]\n",
    "\n",
    "userid, qq_item_seq, kandian_item_seq, userprofile  = [], [], [], []\n",
    "\n",
    "for i in range(len(samples)):\n",
    "    \n",
    "    userid.append(int(samples[i].split(\",,\")[0]))\n",
    "        \n",
    "    qq_item_seq_temp = [int(digit) for digit in samples[i].split(\",,\")[1].split(\",\")]\n",
    "    qq_item_seq.append(qq_item_seq_temp)\n",
    "    \n",
    "    kandian_item_seq_temp = [int(digit) for digit in samples[i].split(\",,\")[2].split(\",\")]\n",
    "    kandian_item_seq.append(kandian_item_seq_temp)\n",
    "    \n",
    "    userprofile_temp = [int(digit) for digit in samples[i].split(\",,\")[3].split(\",\")]\n",
    "    userprofile.append(userprofile_temp)"
   ]
  },
  {
   "cell_type": "code",
   "execution_count": 3,
   "metadata": {},
   "outputs": [],
   "source": [
    "gender_target = np.array(userprofile)[:,0]\n",
    "#gender_target = list(gender_target)\n",
    "\n",
    "age_target = np.array(userprofile)[:,1]\n",
    "#age_target = list(age_target)\n",
    "\n",
    "#qq_item_seq = np.array(qq_item_seq)\n",
    "\n"
   ]
  },
  {
   "cell_type": "code",
   "execution_count": 4,
   "metadata": {},
   "outputs": [
    {
     "data": {
      "text/plain": [
       "(1600, 1600, 1600)"
      ]
     },
     "execution_count": 4,
     "metadata": {},
     "output_type": "execute_result"
    }
   ],
   "source": [
    "len(qq_item_seq), len(age_target), len(gender_target)"
   ]
  },
  {
   "cell_type": "code",
   "execution_count": 5,
   "metadata": {},
   "outputs": [
    {
     "name": "stdout",
     "output_type": "stream",
     "text": [
      "index to exclude: 909\n",
      "index to exclude: 1163\n"
     ]
    },
    {
     "name": "stderr",
     "output_type": "stream",
     "text": [
      "/usr/local/lib/python3.9/dist-packages/numpy/lib/function_base.py:5030: VisibleDeprecationWarning: Creating an ndarray from ragged nested sequences (which is a list-or-tuple of lists-or-tuples-or ndarrays with different lengths or shapes) is deprecated. If you meant to do this, you must specify 'dtype=object' when creating the ndarray.\n",
      "  arr = asarray(arr)\n"
     ]
    }
   ],
   "source": [
    "# Find indices that have missing info (-1) in age target and gender target, \n",
    "# and exclude QQ sequences, age target and gender target of such indices \n",
    "indices_to_remove =[]\n",
    "for i in range(len(age_target)):\n",
    "    if age_target[i] == -1 or gender_target[i] == -1:\n",
    "        print(\"index to exclude:\", i)\n",
    "        indices_to_remove.append(i)\n",
    "\n",
    " \n",
    "gender_target = list(np.delete(gender_target, indices_to_remove))\n",
    "age_target = list(np.delete(age_target, indices_to_remove))\n",
    "qq_item_seq = list(np.delete(qq_item_seq, indices_to_remove))\n"
   ]
  },
  {
   "cell_type": "code",
   "execution_count": 6,
   "metadata": {},
   "outputs": [
    {
     "data": {
      "text/plain": [
       "(1598, 1598, 1598)"
      ]
     },
     "execution_count": 6,
     "metadata": {},
     "output_type": "execute_result"
    }
   ],
   "source": [
    "len(qq_item_seq), len(age_target), len(gender_target)"
   ]
  },
  {
   "cell_type": "code",
   "execution_count": 7,
   "metadata": {},
   "outputs": [
    {
     "name": "stdout",
     "output_type": "stream",
     "text": [
      "Age distribution:\n"
     ]
    },
    {
     "data": {
      "image/png": "[encoded data removed]",
      "text/plain": [
       "<Figure size 432x288 with 1 Axes>"
      ]
     },
     "metadata": {
      "needs_background": "light"
     },
     "output_type": "display_data"
    },
    {
     "name": "stdout",
     "output_type": "stream",
     "text": [
      "Counter({3: 638, 4: 387, 2: 365, 5: 162, 6: 36, 7: 5, 1: 4, 9: 1})\n",
      "\n",
      "\n",
      "Gender distribution:\n"
     ]
    },
    {
     "data": {
      "image/png": "[encoded data removed]",
      "text/plain": [
       "<Figure size 432x288 with 1 Axes>"
      ]
     },
     "metadata": {
      "needs_background": "light"
     },
     "output_type": "display_data"
    },
    {
     "name": "stdout",
     "output_type": "stream",
     "text": [
      "Counter({1: 1170, 2: 428})\n"
     ]
    }
   ],
   "source": [
    "from collections import Counter\n",
    "import matplotlib.pyplot as plt\n",
    "\n",
    "# Plot histogram of Age and Gender dataset \n",
    "print(\"Age distribution:\")\n",
    "y=np.array(age_target)\n",
    "plt.hist(y)\n",
    "plt.show()\n",
    "count =Counter(list(y))\n",
    "print(count)\n",
    "print(\"\\n\")\n",
    "\n",
    "print(\"Gender distribution:\")\n",
    "y=np.array(gender_target)\n",
    "plt.hist(y)\n",
    "plt.show()\n",
    "count =Counter(list(y))\n",
    "print(count)\n",
    "\n"
   ]
  },
  {
   "cell_type": "code",
   "execution_count": 8,
   "metadata": {},
   "outputs": [
    {
     "data": {
      "image/png": "[encoded data removed]",
      "text/plain": [
       "<Figure size 432x288 with 1 Axes>"
      ]
     },
     "metadata": {
      "needs_background": "light"
     },
     "output_type": "display_data"
    },
    {
     "name": "stdout",
     "output_type": "stream",
     "text": [
      "Only 1 element: 0.42125\n",
      "Only 2 elements: 0.23875\n",
      "Only 3 elements: 0.139375\n"
     ]
    },
    {
     "data": {
      "text/plain": [
       "Counter({2: 382, 1: 674, 4: 188, 3: 223, 5: 133})"
      ]
     },
     "execution_count": 8,
     "metadata": {},
     "output_type": "execute_result"
    }
   ],
   "source": [
    "import matplotlib.pyplot as plt\n",
    "from collections import Counter\n",
    "\n",
    "# Plot Kandian items distribution {x-axis = number of elements in each kandian sequence, y-axis = counts }\n",
    "train, train_target, test = {}, {}, {}\n",
    "length_list = []\n",
    "user_index = 0\n",
    "flat_seq = []\n",
    "for user in range(len(userid)):\n",
    "    kandian_seq = kandian_item_seq[user]      \n",
    "    length_list.append(len(kandian_seq))\n",
    "   \n",
    "y=np.array(length_list)\n",
    "plt.hist(y)\n",
    "plt.show()\n",
    "\n",
    "# Top 3 highest counts by percentage \n",
    "count = Counter(length_list)\n",
    "# Only 1 eleemnt in kandian \n",
    "print(\"Only 1 element:\",count.most_common()[0][1]/(count.most_common()[0][1]+count.most_common()[1][1]+count.most_common()[2][1]+\n",
    " count.most_common()[3][1]+ count.most_common()[4][1]))\n",
    "\n",
    "\n",
    "print(\"Only 2 elements:\",count.most_common()[1][1]/(count.most_common()[0][1]+count.most_common()[1][1]+count.most_common()[2][1]+\n",
    " count.most_common()[3][1]+ count.most_common()[4][1]))\n",
    "\n",
    "\n",
    "print(\"Only 3 elements:\",count.most_common()[2][1]/(count.most_common()[0][1]+count.most_common()[1][1]+count.most_common()[2][1]+\n",
    " count.most_common()[3][1]+ count.most_common()[4][1]))\n",
    "\n",
    "count"
   ]
  },
  {
   "cell_type": "code",
   "execution_count": 19,
   "metadata": {},
   "outputs": [],
   "source": [
    "# Resampling to solve imbalance classes issue by creating 742 additional samples for class 2 (1454-542)\n",
    "import random\n",
    "\n",
    "gender_cls2_indices=[i for i, e in enumerate(gender_target) if e == 2]\n",
    "random.shuffle(gender_cls2_indices)\n",
    "extra_indices = 742 - len(gender_cls2_indices)\n",
    "gender_cls2_indices.extend(gender_cls2_indices[0:extra_indices])\n",
    "\n",
    "for i in gender_cls2_indices:\n",
    "    add_qq_item_seq = qq_item_seq[i].copy()\n",
    "    random.shuffle(add_qq_item_seq)\n",
    "    qq_item_seq.append(add_qq_item_seq)\n",
    "\n",
    "gender_target.extend([2]*742)"
   ]
  },
  {
   "cell_type": "code",
   "execution_count": 20,
   "metadata": {},
   "outputs": [],
   "source": [
    "# Zip QQ item sequences with gender target dataset, and create lists\n",
    "temp = list(zip(gender_target, qq_item_seq))\n",
    "random.shuffle(temp)\n",
    "gender_target, qq_item_seq = zip(*temp)\n",
    "gender_target, qq_item_seq = list(gender_target), list(qq_item_seq)"
   ]
  },
  {
   "cell_type": "code",
   "execution_count": 21,
   "metadata": {},
   "outputs": [
    {
     "name": "stdout",
     "output_type": "stream",
     "text": [
      "Gender distribution:\n"
     ]
    },
    {
     "data": {
      "image/png": "[encoded data removed]",
      "text/plain": [
       "<Figure size 432x288 with 1 Axes>"
      ]
     },
     "metadata": {
      "needs_background": "light"
     },
     "output_type": "display_data"
    },
    {
     "name": "stdout",
     "output_type": "stream",
     "text": [
      "Counter({2: 1170, 1: 1170})\n"
     ]
    }
   ],
   "source": [
    "# Plot histogram of gender dataset after resampling\n",
    "print(\"Gender distribution:\")\n",
    "y=np.array(gender_target)\n",
    "plt.hist(y)\n",
    "plt.show()\n",
    "count =Counter(list(y))\n",
    "print(count)"
   ]
  },
  {
   "cell_type": "markdown",
   "metadata": {},
   "source": [
    "# Create batches"
   ]
  },
  {
   "cell_type": "code",
   "execution_count": 22,
   "metadata": {},
   "outputs": [],
   "source": [
    "#kandian_item_seq\n",
    "\n",
    "def make_user_sequence(qq_item_seq, maxlen, ft_special_token):\n",
    "    batch = []\n",
    "    input_ls, seg_ls, masked_pos = [],[],[]\n",
    "    \n",
    "    for i in range(len(qq_item_seq)):\n",
    "        \n",
    "        # For 100 sequence length, we take the last 98 tokens from one sequence of training set, \n",
    "        # plus 2 special tokens: 1 [CLS], and 2 [SEP] tokens.    \n",
    "        tokens_a = qq_item_seq[i]\n",
    "        tokens_a = tokens_a[-(maxlen-2):]\n",
    "        input_ids = [ft_special_token['[CLS]']] + tokens_a + [ft_special_token['[SEP]']] \n",
    "\n",
    "        # Assign 1 to all tokens as segment ids \n",
    "        segment_ids = [1] * (1 + len(tokens_a) + 1) \n",
    "\n",
    "        \n",
    "        # Zero Paddings\n",
    "        n_pad = maxlen - len(input_ids)\n",
    "        input_ids.extend([0] * n_pad)\n",
    "        segment_ids.extend([0] * n_pad)\n",
    "        \n",
    "        # Append batch data, and input ids, and segment ids\n",
    "        batch.append([input_ids, segment_ids]) \n",
    "        input_ls.append(input_ids)\n",
    "        seg_ls.append(segment_ids)\n",
    "        \n",
    "        \n",
    "        # Get all token indices other than indices from special tokens\n",
    "        cand_maked_pos = [i for i, token in enumerate(input_ids) \n",
    "                          if token != ft_special_token['[CLS]'] and token != ft_special_token['[SEP]'] and token != ft_special_token['[PAD]'] ]\n",
    "        \n",
    "        \n",
    "        # Get 2 random masked positions  \n",
    "        random.shuffle(cand_maked_pos)\n",
    "        temp_masked_pos = []\n",
    "        for pos in cand_maked_pos[:2]:\n",
    "            temp_masked_pos.append(pos)\n",
    "        masked_pos.append(temp_masked_pos)\n",
    "           \n",
    "  \n",
    "    return batch, input_ls, seg_ls , masked_pos "
   ]
  },
  {
   "cell_type": "code",
   "execution_count": 23,
   "metadata": {},
   "outputs": [
    {
     "data": {
      "text/plain": [
       "2340"
      ]
     },
     "execution_count": 23,
     "metadata": {},
     "output_type": "execute_result"
    }
   ],
   "source": [
    "len(qq_item_seq)"
   ]
  },
  {
   "cell_type": "code",
   "execution_count": 24,
   "metadata": {},
   "outputs": [],
   "source": [
    "\n",
    "# Create vocabs dictionary for qq items sequence\n",
    "vocab_to_int, int_to_vocab = {}, {}\n",
    "total_vocab = []\n",
    "for user in range(len(qq_item_seq)):\n",
    "    qq_seq = qq_item_seq[user]\n",
    "    for vocab in qq_seq:\n",
    "        total_vocab.append(vocab)\n",
    "    \n",
    "    \n",
    "for index, vocab  in enumerate(set(total_vocab)):\n",
    "    vocab_to_int[vocab] = index+1\n",
    "    int_to_vocab[index+1] = vocab"
   ]
  },
  {
   "cell_type": "code",
   "execution_count": 25,
   "metadata": {},
   "outputs": [
    {
     "data": {
      "text/plain": [
       "88284"
      ]
     },
     "execution_count": 25,
     "metadata": {},
     "output_type": "execute_result"
    }
   ],
   "source": [
    "len(int_to_vocab)"
   ]
  },
  {
   "cell_type": "code",
   "execution_count": 26,
   "metadata": {},
   "outputs": [],
   "source": [
    "# Create QQ items sequence using the vocabs dictionary\n",
    "train, train_target, test = {}, {}, {}\n",
    "length_list = []\n",
    "user_index = 0\n",
    "flat_seq = []\n",
    "qq_seq_int = []\n",
    "for user in range(len(qq_item_seq)):\n",
    "    qq_seq = qq_item_seq[user]\n",
    "    \n",
    "    #for s in qq_seq:\n",
    "    #    flat_seq.append(s)\n",
    "    qq_seq_int_temp = []\n",
    "    for vocab in qq_seq:\n",
    "        qq_seq_int_temp.append(vocab_to_int[vocab])\n",
    "    \n",
    "    length_list.append(len(qq_seq_int))\n",
    "    \n",
    "    qq_seq_int.append(qq_seq_int_temp)"
   ]
  },
  {
   "cell_type": "code",
   "execution_count": 27,
   "metadata": {},
   "outputs": [],
   "source": [
    "maxlen = 100\n",
    "\n",
    "# Define special tokens\n",
    "ft_special_token = {'[PAD]': 0, '[CLS]': max(int_to_vocab)+1, '[SEP]': max(int_to_vocab)+2 }\n",
    "\n",
    "# Create batch, input ids, and masked positions\n",
    "batch, input_ls, seg_ls, masked_pos = make_user_sequence(qq_seq_int, maxlen, ft_special_token)\n",
    "\n",
    "# Total vocab size\n",
    "vocab_size = max(int_to_vocab)+4+15578"
   ]
  },
  {
   "cell_type": "code",
   "execution_count": 28,
   "metadata": {},
   "outputs": [
    {
     "name": "stdout",
     "output_type": "stream",
     "text": [
      "[[88285, 1060, 16381, 17017, 76176, 6113, 111, 4202, 3465, 1215, 5379, 4187, 13722, 8859, 1221, 9116, 7330, 1042, 3106, 2630, 3155, 4040, 1052, 5631, 4539, 88286, 0, 0, 0, 0, 0, 0, 0, 0, 0, 0, 0, 0, 0, 0, 0, 0, 0, 0, 0, 0, 0, 0, 0, 0, 0, 0, 0, 0, 0, 0, 0, 0, 0, 0, 0, 0, 0, 0, 0, 0, 0, 0, 0, 0, 0, 0, 0, 0, 0, 0, 0, 0, 0, 0, 0, 0, 0, 0, 0, 0, 0, 0, 0, 0, 0, 0, 0, 0, 0, 0, 0, 0, 0, 0], [1, 1, 1, 1, 1, 1, 1, 1, 1, 1, 1, 1, 1, 1, 1, 1, 1, 1, 1, 1, 1, 1, 1, 1, 1, 1, 0, 0, 0, 0, 0, 0, 0, 0, 0, 0, 0, 0, 0, 0, 0, 0, 0, 0, 0, 0, 0, 0, 0, 0, 0, 0, 0, 0, 0, 0, 0, 0, 0, 0, 0, 0, 0, 0, 0, 0, 0, 0, 0, 0, 0, 0, 0, 0, 0, 0, 0, 0, 0, 0, 0, 0, 0, 0, 0, 0, 0, 0, 0, 0, 0, 0, 0, 0, 0, 0, 0, 0, 0, 0]]\n"
     ]
    }
   ],
   "source": [
    "print(batch[0])"
   ]
  },
  {
   "cell_type": "code",
   "execution_count": 29,
   "metadata": {},
   "outputs": [],
   "source": [
    "# Obtain length of label set\n",
    "kandian_labels = [seq[0] for seq in kandian_item_seq]\n",
    "kandian_label_vocab = len(set(kandian_labels))\n",
    "\n",
    "gender_label_vocab = len(set(gender_target))\n",
    "\n",
    "age_label_vocab = len(set(age_target))"
   ]
  },
  {
   "cell_type": "code",
   "execution_count": 30,
   "metadata": {},
   "outputs": [
    {
     "data": {
      "text/plain": [
       "({1, 2, 3, 4, 5, 6, 7, 9}, {1, 2})"
      ]
     },
     "execution_count": 30,
     "metadata": {},
     "output_type": "execute_result"
    }
   ],
   "source": [
    "set(age_target), set(gender_target)"
   ]
  },
  {
   "cell_type": "code",
   "execution_count": 31,
   "metadata": {},
   "outputs": [],
   "source": [
    "label_to_dict = {}\n",
    "dict_to_label = {}\n",
    "kandian_dict_labels = []\n",
    "age_dict_labels = []\n",
    "gender_dict_labels = []\n",
    "age_dict_labels = []\n",
    "\n",
    "\n",
    "\n",
    "\n",
    "# Create gender target dataset from vocab dictionary    \n",
    "for index, label in enumerate (set(gender_target)):\n",
    "    label_to_dict[label] = index\n",
    "    dict_to_label[index] = label    \n",
    "    \n",
    "for label in gender_target:\n",
    "    gender_dict_labels.append(label_to_dict[label]) \n",
    "    \n",
    "\n",
    "    \n",
    "# for Kandian target    \n",
    "#for index, label in enumerate (set(kandian_labels)):\n",
    "#    label_to_dict[label] = index\n",
    "#    dict_to_label[index] = label\n",
    "\n",
    "#for label in kandian_labels: \n",
    "#    kandian_dict_labels.append(label_to_dict[label])  \n",
    "    \n"
   ]
  },
  {
   "cell_type": "code",
   "execution_count": 32,
   "metadata": {},
   "outputs": [
    {
     "data": {
      "text/plain": [
       "{0: 1, 1: 2}"
      ]
     },
     "execution_count": 32,
     "metadata": {},
     "output_type": "execute_result"
    }
   ],
   "source": [
    "dict_to_label"
   ]
  },
  {
   "cell_type": "code",
   "execution_count": 33,
   "metadata": {},
   "outputs": [
    {
     "data": {
      "text/plain": [
       "2"
      ]
     },
     "execution_count": 33,
     "metadata": {},
     "output_type": "execute_result"
    }
   ],
   "source": [
    "len(label_to_dict)"
   ]
  },
  {
   "cell_type": "code",
   "execution_count": 34,
   "metadata": {},
   "outputs": [
    {
     "name": "stdout",
     "output_type": "stream",
     "text": [
      "[88285, 1060, 16381, 17017, 76176, 6113, 111, 4202, 3465, 1215, 5379, 4187, 13722, 8859, 1221, 9116, 7330, 1042, 3106, 2630, 3155, 4040, 1052, 5631, 4539, 88286, 0, 0, 0, 0, 0, 0, 0, 0, 0, 0, 0, 0, 0, 0, 0, 0, 0, 0, 0, 0, 0, 0, 0, 0, 0, 0, 0, 0, 0, 0, 0, 0, 0, 0, 0, 0, 0, 0, 0, 0, 0, 0, 0, 0, 0, 0, 0, 0, 0, 0, 0, 0, 0, 0, 0, 0, 0, 0, 0, 0, 0, 0, 0, 0, 0, 0, 0, 0, 0, 0, 0, 0, 0, 0]\n"
     ]
    }
   ],
   "source": [
    "print(input_ls[0])"
   ]
  },
  {
   "cell_type": "markdown",
   "metadata": {
    "colab_type": "text",
    "id": "MKfWnApvOoE7"
   },
   "source": [
    "# Split train dataset into train, validation and test sets"
   ]
  },
  {
   "cell_type": "code",
   "execution_count": 35,
   "metadata": {
    "colab": {},
    "colab_type": "code",
    "id": "mfhSPF5jOWb7"
   },
   "outputs": [],
   "source": [
    "# Split dataset into training, validation, and testing dataset\n",
    "def train_test_split(train_split_size, test_split_size, input_ls, seg_ls ):\n",
    "    # Split between train and evaluation\n",
    "    split_index = np.round(int(train_split_size*len(input_ls)))\n",
    "    train_seq,  temp_seq = input_ls[0:split_index], input_ls[split_index:]\n",
    "    #train_labels, temp_labels = kandian_dict_labels[0:split_index], kandian_dict_labels[split_index:] \n",
    "    train_labels, temp_labels = gender_dict_labels[0:split_index], gender_dict_labels[split_index:]\n",
    "    train_segment, temp_segment = seg_ls[0:split_index], seg_ls[split_index:]\n",
    "    train_tok_pos, temp_tok_pos = masked_pos[0:split_index], masked_pos[split_index:]\n",
    "    \n",
    "    \n",
    "    # Split between evaluation and test \n",
    "    split_index = np.round(int(test_split_size*len(temp_seq)))\n",
    "    test_seq, val_seq = temp_seq[0:split_index], temp_seq[split_index:]\n",
    "    test_labels, val_labels = temp_labels[0:split_index], temp_labels[split_index:] \n",
    "    test_segment, val_segment = temp_segment[0:split_index], temp_segment[split_index:] \n",
    "    test_tok_pos, val_tok_pos = temp_tok_pos[0:split_index], temp_tok_pos[split_index:]\n",
    "    \n",
    "    return train_seq, train_labels, val_seq, val_labels, test_seq, test_labels, train_segment, val_segment, test_segment, train_tok_pos, val_tok_pos, test_tok_pos  \n",
    "    "
   ]
  },
  {
   "cell_type": "code",
   "execution_count": 36,
   "metadata": {},
   "outputs": [],
   "source": [
    "tr_seq, tr_labels, v_seq, v_labels, te_seq, te_labels, tr_segment, v_segment, te_segment, tr_tok, v_tok, te_tok= train_test_split(0.7, 0.5, input_ls, seg_ls )\n"
   ]
  },
  {
   "cell_type": "code",
   "execution_count": 37,
   "metadata": {},
   "outputs": [
    {
     "name": "stdout",
     "output_type": "stream",
     "text": [
      "[88285, 316, 69154, 57382, 59213, 24, 9470, 12057, 64071, 5387, 68186, 39162, 21713, 536, 68154, 82317, 14304, 38099, 29604, 46040, 948, 53230, 4007, 12967, 64081, 13212, 88286, 0, 0, 0, 0, 0, 0, 0, 0, 0, 0, 0, 0, 0, 0, 0, 0, 0, 0, 0, 0, 0, 0, 0, 0, 0, 0, 0, 0, 0, 0, 0, 0, 0, 0, 0, 0, 0, 0, 0, 0, 0, 0, 0, 0, 0, 0, 0, 0, 0, 0, 0, 0, 0, 0, 0, 0, 0, 0, 0, 0, 0, 0, 0, 0, 0, 0, 0, 0, 0, 0, 0, 0, 0]\n"
     ]
    }
   ],
   "source": [
    "print(tr_seq[10])"
   ]
  },
  {
   "cell_type": "markdown",
   "metadata": {
    "colab_type": "text",
    "id": "n7hsdLoCO7uB"
   },
   "source": [
    "# Import Pre-trained RecoBERT Model"
   ]
  },
  {
   "cell_type": "code",
   "execution_count": 38,
   "metadata": {},
   "outputs": [
    {
     "data": {
      "text/plain": [
       "<All keys matched successfully>"
      ]
     },
     "execution_count": 38,
     "metadata": {},
     "output_type": "execute_result"
    }
   ],
   "source": [
    "from model import BERT as pre_trained\n",
    "\n",
    "# Hyperparameters for pre-trained RecoBERT\n",
    "maxlen = 100 # maximum of length\n",
    "n_layers = 1 # number of Encoder of Encoder Layer\n",
    "n_heads = 4 # number of heads in Multi-Head Attention\n",
    "emb_dim = 128 # Embedding Size\n",
    "d_ff = 128 * 4  # 4*d_model, FeedForward dimension\n",
    "d_k = d_v = 64  # dimension of K(=Q), V\n",
    "n_segments = 2 # number of segments \n",
    "\n",
    "pre_trained_model = pre_trained(vocab_size, maxlen, emb_dim, n_segments, d_ff, n_layers, d_k, d_v, n_heads)\n",
    "pre_trained_model.load_state_dict(torch.load(\"recmodel.bin\", map_location=torch.device('cpu')))\n"
   ]
  },
  {
   "cell_type": "code",
   "execution_count": 39,
   "metadata": {},
   "outputs": [
    {
     "name": "stdout",
     "output_type": "stream",
     "text": [
      "128\n",
      "2\n"
     ]
    },
    {
     "data": {
      "text/plain": [
       "BERT(\n",
       "  (embedding): Embedding(\n",
       "    (tok_embed): Embedding(103866, 128)\n",
       "    (pos_embed): Embedding(100, 128)\n",
       "    (seg_embed): Embedding(2, 128)\n",
       "    (norm): LayerNorm((128,), eps=1e-05, elementwise_affine=True)\n",
       "  )\n",
       "  (layers): ModuleList(\n",
       "    (0): EncoderLayer(\n",
       "      (enc_self_attn): MultiHeadAttention(\n",
       "        (W_Q): Linear(in_features=128, out_features=256, bias=True)\n",
       "        (W_K): Linear(in_features=128, out_features=256, bias=True)\n",
       "        (W_V): Linear(in_features=128, out_features=256, bias=True)\n",
       "      )\n",
       "      (fc1): Linear(in_features=128, out_features=512, bias=True)\n",
       "      (fc2): Linear(in_features=512, out_features=128, bias=True)\n",
       "    )\n",
       "  )\n",
       "  (fc): Linear(in_features=128, out_features=128, bias=True)\n",
       "  (activ1): Tanh()\n",
       "  (linear): Linear(in_features=128, out_features=128, bias=True)\n",
       "  (norm): LayerNorm((128,), eps=1e-05, elementwise_affine=True)\n",
       "  (classifier): Linear(in_features=128, out_features=2, bias=True)\n",
       "  (decoder): Linear(in_features=128, out_features=103866, bias=False)\n",
       ")"
      ]
     },
     "execution_count": 39,
     "metadata": {},
     "output_type": "execute_result"
    }
   ],
   "source": [
    "print(pre_trained_model.classifier.in_features)\n",
    "print(pre_trained_model.classifier.out_features)\n",
    "\n",
    "in_features = pre_trained_model.classifier.in_features\n",
    "\n",
    "# Freeze pre-trained model parameters\n",
    "for param in pre_trained_model.parameters():\n",
    "     param.requires_grad = False\n",
    "        \n",
    "\n",
    "pre_trained_model"
   ]
  },
  {
   "cell_type": "markdown",
   "metadata": {
    "colab_type": "text",
    "id": "Wsm8bkRZQTw9"
   },
   "source": [
    "# Convert Integer Sequences to Tensors"
   ]
  },
  {
   "cell_type": "code",
   "execution_count": 40,
   "metadata": {
    "colab": {},
    "colab_type": "code",
    "id": "QR-lXwmzQPd6"
   },
   "outputs": [],
   "source": [
    "# Create tensors for training set\n",
    "train_seq = torch.tensor(tr_seq)\n",
    "train_mask = torch.tensor(tr_segment)\n",
    "train_y = torch.tensor(tr_labels)\n",
    "train_tok_pos = torch.tensor(tr_tok)\n",
    "\n",
    "\n",
    "# Create tensors for validation set\n",
    "val_seq = torch.tensor(v_seq)\n",
    "val_mask = torch.tensor(v_segment)\n",
    "val_y = torch.tensor(v_labels)\n",
    "val_tok_pos = torch.tensor(v_tok)\n",
    "\n",
    "# Create tensors for testing set\n",
    "test_seq = torch.tensor(te_seq)\n",
    "test_mask = torch.tensor(te_segment)\n",
    "test_y = torch.tensor(te_labels)\n",
    "test_tok_pos = torch.tensor(te_tok)\n"
   ]
  },
  {
   "cell_type": "code",
   "execution_count": 41,
   "metadata": {},
   "outputs": [
    {
     "data": {
      "text/plain": [
       "(1638, 1638, 1638)"
      ]
     },
     "execution_count": 41,
     "metadata": {},
     "output_type": "execute_result"
    }
   ],
   "source": [
    "len(train_seq), len(train_mask), len(train_y)"
   ]
  },
  {
   "cell_type": "code",
   "execution_count": 42,
   "metadata": {},
   "outputs": [
    {
     "data": {
      "text/plain": [
       "(351, 351, 351)"
      ]
     },
     "execution_count": 42,
     "metadata": {},
     "output_type": "execute_result"
    }
   ],
   "source": [
    "len(v_seq), len(v_segment), len(v_labels)"
   ]
  },
  {
   "cell_type": "code",
   "execution_count": 43,
   "metadata": {},
   "outputs": [
    {
     "data": {
      "text/plain": [
       "(351, 351, 351)"
      ]
     },
     "execution_count": 43,
     "metadata": {},
     "output_type": "execute_result"
    }
   ],
   "source": [
    "len(te_seq), len(te_segment), len(te_labels)"
   ]
  },
  {
   "cell_type": "markdown",
   "metadata": {
    "colab_type": "text",
    "id": "Ov1cOBlcRLuk"
   },
   "source": [
    "# Create DataLoaders"
   ]
  },
  {
   "cell_type": "code",
   "execution_count": 44,
   "metadata": {
    "colab": {},
    "colab_type": "code",
    "id": "qUy9JKFYQYLp"
   },
   "outputs": [],
   "source": [
    "from torch.utils.data import TensorDataset, DataLoader, RandomSampler, SequentialSampler\n",
    "\n",
    "#define a batch size\n",
    "batch_size = 10\n",
    "\n",
    "# wrap tensors\n",
    "train_data = TensorDataset(train_seq, train_mask, train_y, train_tok_pos)\n",
    "\n",
    "# sampler for sampling the data during training\n",
    "train_sampler = RandomSampler(train_data)\n",
    "\n",
    "# dataLoader for training set\n",
    "train_dataloader = DataLoader(train_data, sampler=train_sampler, batch_size=batch_size)\n",
    "\n",
    "# wrap tensors\n",
    "val_data = TensorDataset(val_seq, val_mask, val_y, val_tok_pos)\n",
    "\n",
    "# sampler for sampling the data during training\n",
    "val_sampler = SequentialSampler(val_data)\n",
    "\n",
    "# dataLoader for validation set\n",
    "val_dataloader = DataLoader(val_data, sampler = val_sampler, batch_size=batch_size)\n",
    "\n",
    "# wrap tensors\n",
    "test_data = TensorDataset(test_seq, test_mask, test_y, test_tok_pos)\n",
    "\n",
    "# sampler for sampling the data during testing\n",
    "test_sampler = SequentialSampler(test_data)\n",
    "\n",
    "# dataLoader for testing set\n",
    "test_dataloader = DataLoader(test_data, sampler = test_sampler, batch_size=batch_size)"
   ]
  },
  {
   "cell_type": "markdown",
   "metadata": {
    "colab_type": "text",
    "id": "s7ahGBUWRi3X"
   },
   "source": [
    "# Define Model Architecture"
   ]
  },
  {
   "cell_type": "code",
   "execution_count": 45,
   "metadata": {},
   "outputs": [
    {
     "data": {
      "text/plain": [
       "2"
      ]
     },
     "execution_count": 45,
     "metadata": {},
     "output_type": "execute_result"
    }
   ],
   "source": [
    "len(label_to_dict)"
   ]
  },
  {
   "cell_type": "code",
   "execution_count": 46,
   "metadata": {
    "colab": {},
    "colab_type": "code",
    "id": "b3iEtGyYRd0A"
   },
   "outputs": [],
   "source": [
    "class BERT_Arch(nn.Module):\n",
    "\n",
    "    def __init__(self, pre_trained_model, cls_dim):\n",
    "      \n",
    "        super(BERT_Arch, self).__init__()\n",
    "        \n",
    "        pre_trained_model.classifier = nn.Linear(in_features, cls_dim)\n",
    "        self.bert = pre_trained_model\n",
    "        \n",
    "         \n",
    "\n",
    "        # dropout layer\n",
    "        self.dropout = nn.Dropout(0.1)\n",
    "\n",
    "        # relu activation function\n",
    "        self.relu =  nn.ReLU()\n",
    "\n",
    "        # MLP Linear layer 1\n",
    "        self.mlp_lin = nn.Linear(100,50)\n",
    "        \n",
    "        # MLP Linear classifier\n",
    "        self.mlp_lin2 = nn.Linear(50,gender_label_vocab)\n",
    "        \n",
    "        \n",
    "        # Transfer learning: Linear layer 1\n",
    "        self.mask_lin = nn.Linear(103866,512)\n",
    "        \n",
    "        # Transfer learning: Linear classifier \n",
    "        self.mask_lin2 = nn.Linear(512,gender_label_vocab)\n",
    "        \n",
    "    \n",
    "        #softmax activation function\n",
    "        self.softmax = nn.LogSoftmax(dim=1)\n",
    "\n",
    "    #define the forward pass\n",
    "    def forward(self, sent_id, mask, masked_pos, device, n_heads, d_k, d_v, avg_tok=False, mlp=False):\n",
    "        \n",
    "        #pass the inputs to the model  \n",
    "        if mlp == False:\n",
    "            masked_out , cls_hs1, cls_hs2 = self.bert(sent_id, mask, masked_pos, device, n_heads, d_k, d_v)\n",
    "            \n",
    "            x = self.mask_lin(masked_out)\n",
    "            \n",
    "            x = self.relu(x) \n",
    "           \n",
    "            x = self.dropout(x)\n",
    "\n",
    "            # output layer\n",
    "            x = self.mask_lin2(x)\n",
    "           \n",
    "            # apply softmax activation\n",
    "            x = self.softmax(x)\n",
    "\n",
    "                \n",
    "        else:\n",
    "            sent_id = torch.tensor(sent_id, dtype=torch.float)\n",
    "            x = self.mlp_lin(sent_id)\n",
    "        \n",
    "            x = self.relu(x)\n",
    "\n",
    "            x = self.dropout(x)\n",
    "\n",
    "             # MLP linear classifier output\n",
    "            x = self.mlp_lin2(x)\n",
    "\n",
    "            # apply softmax activation\n",
    "            x = self.softmax(x)\n",
    "\n",
    "        return x"
   ]
  },
  {
   "cell_type": "markdown",
   "metadata": {
    "colab_type": "text",
    "id": "j9CDpoMQR_rK"
   },
   "source": [
    "# Find Class Weights"
   ]
  },
  {
   "cell_type": "code",
   "execution_count": 48,
   "metadata": {
    "colab": {
     "base_uri": "https://localhost:8080/",
     "height": 34
    },
    "colab_type": "code",
    "id": "izY5xH5eR7Ur",
    "outputId": "4682d190-bf40-4824-89af-91983ae6b174"
   },
   "outputs": [
    {
     "name": "stdout",
     "output_type": "stream",
     "text": [
      "[1. 1.]\n"
     ]
    }
   ],
   "source": [
    "from sklearn.utils.class_weight import compute_class_weight\n",
    "\n",
    "#compute the class weights\n",
    "#class_wts = compute_class_weight(class_weight='balanced', classes= np.unique(kandian_labels), y= kandian_labels)\n",
    "class_wts = compute_class_weight(class_weight='balanced', classes= np.unique(gender_target), y= gender_target)\n",
    "\n",
    "print(class_wts)\n"
   ]
  },
  {
   "cell_type": "code",
   "execution_count": 49,
   "metadata": {
    "colab": {},
    "colab_type": "code",
    "id": "r1WvfY2vSGKi"
   },
   "outputs": [],
   "source": [
    "# convert class weights to tensor\n",
    "weights= torch.tensor(class_wts,dtype=torch.float)\n",
    "weights = weights.to(device)\n",
    "\n",
    "# Define loss function\n",
    "cross_entropy  = nn.NLLLoss(weight=weights) \n",
    "\n"
   ]
  },
  {
   "cell_type": "markdown",
   "metadata": {
    "colab_type": "text",
    "id": "My4CA0qaShLq"
   },
   "source": [
    "# Fine-Tune RecoBERT"
   ]
  },
  {
   "cell_type": "code",
   "execution_count": 50,
   "metadata": {
    "colab": {},
    "colab_type": "code",
    "id": "rskLk8R_SahS"
   },
   "outputs": [],
   "source": [
    "# function to train the model\n",
    "def train(model, mlp, avg_tok):\n",
    "  \n",
    "  model.train()\n",
    "\n",
    "  total_loss, total_accuracy = 0, 0\n",
    "  \n",
    "  # empty list to save model predictions\n",
    "  total_preds=[]\n",
    "  \n",
    "  # iterate over batches\n",
    "  for step,batch in enumerate(train_dataloader):\n",
    "    \n",
    "    # push the batch to gpu\n",
    "    batch = [r.to(device) for r in batch]\n",
    " \n",
    "    sent_id, mask, labels, tok_pos = batch\n",
    "\n",
    "    # clear previously calculated gradients \n",
    "    model.zero_grad()        \n",
    "\n",
    "    # get model predictions for the current batch\n",
    "    preds = model(sent_id, mask, tok_pos , device, n_heads, \n",
    "                  d_k, d_v, avg_tok=avg_tok, mlp=mlp)\n",
    "    \n",
    "\n",
    "    # compute the loss between actual and predicted values\n",
    "    if mlp == False:\n",
    "        preds = torch.mean(preds, dim=1)\n",
    "    \n",
    "    \n",
    "    loss = cross_entropy(preds, labels)\n",
    "\n",
    "    # add on to the total loss\n",
    "    total_loss = total_loss + loss.item()\n",
    "\n",
    "    # backward pass to calculate the gradients\n",
    "    loss.backward()\n",
    "\n",
    "    # clip the the gradients to 1.0. It helps in preventing the exploding gradient problem\n",
    "    torch.nn.utils.clip_grad_norm_(model.parameters(), 1.0)\n",
    "\n",
    "    # update parameters\n",
    "    optimizer.step()\n",
    "\n",
    "    # model predictions are stored on GPU. So, push it to CPU\n",
    "    preds=preds.detach().cpu().numpy()\n",
    "\n",
    "    # append the model predictions\n",
    "    total_preds.append(preds)\n",
    "\n",
    "  # compute the training loss of the epoch\n",
    "  avg_loss = total_loss / len(train_dataloader)\n",
    "  \n",
    "  # predictions are in the form of (no. of batches, size of batch, no. of classes).\n",
    "  # reshape the predictions in form of (number of samples, no. of classes)\n",
    "  total_preds  = np.concatenate(total_preds, axis=0)\n",
    "\n",
    "  #returns the loss, predictions, model\n",
    "  return avg_loss, total_preds, model"
   ]
  },
  {
   "cell_type": "code",
   "execution_count": 51,
   "metadata": {
    "colab": {},
    "colab_type": "code",
    "id": "yGXovFDlSxB5"
   },
   "outputs": [],
   "source": [
    "# function for evaluating the model\n",
    "def evaluate(model, mlp, avg_tok):\n",
    "  \n",
    "  # deactivate dropout layers\n",
    "  model.eval()\n",
    "\n",
    "  total_loss, total_accuracy = 0, 0\n",
    "  \n",
    "  # empty list to save the model predictions\n",
    "  total_preds = []\n",
    "\n",
    "  # iterate over batches\n",
    "  for step,batch in enumerate(val_dataloader):\n",
    "\n",
    "    # push the batch to gpu\n",
    "    batch = [t.to(device) for t in batch]\n",
    "\n",
    "    sent_id, mask, labels, tok_pos = batch\n",
    "\n",
    "    # deactivate autograd\n",
    "    with torch.no_grad():\n",
    "      \n",
    "      # model predictions\n",
    "      preds = model(sent_id, mask, tok_pos , device, n_heads, \n",
    "                    d_k, d_v, avg_tok=avg_tok, mlp=mlp)\n",
    "    \n",
    "      \n",
    "      \n",
    "      if mlp == False: \n",
    "          preds = torch.mean(preds, dim=1)\n",
    "        \n",
    "        \n",
    "      # compute the validation loss between actual and predicted values\n",
    "      loss = cross_entropy(preds,labels)\n",
    "\n",
    "      total_loss = total_loss + loss.item()\n",
    "\n",
    "      preds = preds.detach().cpu().numpy()\n",
    "\n",
    "      total_preds.append(preds)\n",
    "\n",
    "  # compute the validation loss of the epoch\n",
    "  avg_loss = total_loss / len(val_dataloader) \n",
    "\n",
    "  # reshape the predictions in form of (number of samples, no. of classes)\n",
    "  total_preds  = np.concatenate(total_preds, axis=0)\n",
    "    \n",
    "\n",
    "  return avg_loss, total_preds"
   ]
  },
  {
   "cell_type": "markdown",
   "metadata": {
    "colab_type": "text",
    "id": "9KZEgxRRTLXG"
   },
   "source": [
    "# Start Model Training"
   ]
  },
  {
   "cell_type": "code",
   "execution_count": 52,
   "metadata": {},
   "outputs": [],
   "source": [
    "\n",
    "def start(model, mlp, epochs):\n",
    "# set initial loss to infinite\n",
    "    best_valid_loss = float('inf')\n",
    "\n",
    "    # empty lists to store training and validation loss of each epoch\n",
    "    train_losses=[]\n",
    "    valid_losses=[]\n",
    "\n",
    "    #for each epoch\n",
    "    for epoch in range(epochs):\n",
    "\n",
    "        if epoch % 20== 0:\n",
    "            print('\\n Epoch {:} / {:}'.format(epoch + 1, epochs))\n",
    "\n",
    "        #train model\n",
    "        train_loss, _, model = train(model, mlp, avg_tok=False )\n",
    "\n",
    "        #evaluate model\n",
    "        valid_loss, _ = evaluate(model, mlp, avg_tok=False)\n",
    "\n",
    "        #save the best model\n",
    "        if valid_loss < best_valid_loss:\n",
    "            best_valid_loss = valid_loss\n",
    "            torch.save(model.state_dict(), 'fine_tuned_weights.pt')\n",
    "\n",
    "        # append training and validation loss\n",
    "        train_losses.append(train_loss)\n",
    "        valid_losses.append(valid_loss)\n",
    "\n",
    "         # Print losses every 20 epochs\n",
    "        if epoch % 20== 0:\n",
    "            print(f'\\nTraining Loss: {train_loss:.3f}')\n",
    "            print(f'Validation Loss: {valid_loss:.3f}')\n",
    "\n",
    "        \n",
    "        \n",
    "    return train_losses, valid_losses, model"
   ]
  },
  {
   "cell_type": "code",
   "execution_count": 53,
   "metadata": {},
   "outputs": [],
   "source": [
    "# get predictions for test data\n",
    "def get_accuracy(model, mlp):\n",
    "    test_preds = []\n",
    "    with torch.no_grad():\n",
    "\n",
    "        for step,batch in enumerate(test_dataloader):\n",
    "\n",
    "            # push the batch to gpu\n",
    "            batch = [t.to(device) for t in batch]\n",
    "\n",
    "            sent_id, mask, labels, tok_pos  = batch   \n",
    "            \n",
    "            \n",
    "            preds = model(sent_id, mask, tok_pos , device, n_heads, d_k, d_v, avg_tok=False, mlp=mlp)\n",
    "        \n",
    "            if mlp == False:\n",
    "                preds = torch.mean(preds, dim=1)\n",
    "            preds = preds.detach().cpu().numpy()\n",
    "            test_preds.append(preds)\n",
    "\n",
    "    test_preds_concat =np.concatenate( test_preds, axis=0 )\n",
    " \n",
    "    preds = np.argmax(test_preds_concat, axis = 1)\n",
    "  \n",
    "    print(\"predicted Gender:\\n\",preds)\n",
    "    print(\"True Gender:\\n\",test_y)\n",
    "    print(\"Accuracy score: \",int(accuracy_score(test_y,preds)*100 ),\"%\")\n",
    "    \n",
    "    print(classification_report(test_y, preds))\n",
    "    "
   ]
  },
  {
   "cell_type": "code",
   "execution_count": 54,
   "metadata": {},
   "outputs": [],
   "source": [
    "# Free up memory for training\n",
    "import gc\n",
    "\n",
    "gc.collect()\n",
    "torch.cuda.empty_cache()\n"
   ]
  },
  {
   "cell_type": "markdown",
   "metadata": {},
   "source": [
    "# Gender Classification: Training and Results"
   ]
  },
  {
   "cell_type": "code",
   "execution_count": 55,
   "metadata": {},
   "outputs": [
    {
     "name": "stdout",
     "output_type": "stream",
     "text": [
      "Training model A: MLP \n"
     ]
    },
    {
     "name": "stderr",
     "output_type": "stream",
     "text": [
      "/mistgpu/site-packages/transformers/optimization.py:306: FutureWarning: This implementation of AdamW is deprecated and will be removed in a future version. Use the PyTorch implementation torch.optim.AdamW instead, or set `no_deprecation_warning=True` to disable this warning\n",
      "  warnings.warn(\n",
      "/tmp/ipykernel_720/320170383.py:67: UserWarning: To copy construct from a tensor, it is recommended to use sourceTensor.clone().detach() or sourceTensor.clone().detach().requires_grad_(True), rather than torch.tensor(sourceTensor).\n",
      "  sent_id = torch.tensor(sent_id, dtype=torch.float)\n"
     ]
    },
    {
     "name": "stdout",
     "output_type": "stream",
     "text": [
      "\n",
      " Epoch 1 / 300\n",
      "\n",
      "Training Loss: 868.340\n",
      "Validation Loss: 215.453\n",
      "\n",
      " Epoch 21 / 300\n",
      "\n",
      "Training Loss: 0.673\n",
      "Validation Loss: 1.098\n",
      "\n",
      " Epoch 41 / 300\n",
      "\n",
      "Training Loss: 0.674\n",
      "Validation Loss: 1.100\n",
      "\n",
      " Epoch 61 / 300\n",
      "\n",
      "Training Loss: 0.675\n",
      "Validation Loss: 1.100\n",
      "\n",
      " Epoch 81 / 300\n",
      "\n",
      "Training Loss: 0.672\n",
      "Validation Loss: 1.104\n",
      "\n",
      " Epoch 101 / 300\n",
      "\n",
      "Training Loss: 0.672\n",
      "Validation Loss: 1.106\n",
      "\n",
      " Epoch 121 / 300\n",
      "\n",
      "Training Loss: 0.673\n",
      "Validation Loss: 1.119\n",
      "\n",
      " Epoch 141 / 300\n",
      "\n",
      "Training Loss: 0.672\n",
      "Validation Loss: 1.122\n",
      "\n",
      " Epoch 161 / 300\n",
      "\n",
      "Training Loss: 0.671\n",
      "Validation Loss: 1.124\n",
      "\n",
      " Epoch 181 / 300\n",
      "\n",
      "Training Loss: 0.673\n",
      "Validation Loss: 1.125\n",
      "\n",
      " Epoch 201 / 300\n",
      "\n",
      "Training Loss: 0.672\n",
      "Validation Loss: 1.126\n",
      "\n",
      " Epoch 221 / 300\n",
      "\n",
      "Training Loss: 0.672\n",
      "Validation Loss: 1.127\n",
      "\n",
      " Epoch 241 / 300\n",
      "\n",
      "Training Loss: 0.673\n",
      "Validation Loss: 1.127\n",
      "\n",
      " Epoch 261 / 300\n",
      "\n",
      "Training Loss: 0.673\n",
      "Validation Loss: 1.128\n",
      "\n",
      " Epoch 281 / 300\n",
      "\n",
      "Training Loss: 0.674\n",
      "Validation Loss: 1.128\n",
      "predicted Ages:\n",
      " [1 1 1 1 1 1 1 1 1 1 1 1 1 1 1 1 1 1 1 1 1 1 1 1 1 1 1 1 1 1 1 1 1 1 1 1 1\n",
      " 1 1 1 1 1 1 1 1 1 1 1 1 1 1 1 1 1 1 1 1 1 1 1 1 1 1 1 1 1 1 1 1 1 1 1 1 1\n",
      " 1 1 1 1 1 1 1 1 1 1 1 0 1 1 1 1 1 1 1 1 1 1 1 1 1 1 1 1 1 1 1 1 1 1 1 1 1\n",
      " 1 1 1 1 1 1 1 1 1 1 1 1 1 1 1 1 1 1 1 1 1 1 1 1 1 1 1 1 0 1 1 1 1 1 1 1 1\n",
      " 1 1 1 1 1 1 1 1 1 1 1 1 1 1 1 1 1 1 1 1 1 1 1 1 1 1 1 1 1 1 1 1 1 1 0 1 1\n",
      " 1 1 1 1 1 1 1 1 1 1 1 1 1 1 1 1 1 1 0 1 1 1 0 1 1 1 1 1 1 1 1 1 1 1 1 1 1\n",
      " 1 1 0 1 1 1 1 1 1 1 1 1 1 1 1 1 1 1 1 1 1 1 1 1 1 1 1 1 1 1 1 1 1 1 1 1 1\n",
      " 1 1 1 1 1 1 1 1 1 1 1 1 1 1 1 1 1 1 1 1 1 1 1 1 1 1 1 0 1 1 1 1 1 1 1 1 1\n",
      " 1 1 1 1 1 1 1 1 1 1 1 1 1 1 1 1 1 1 1 1 1 1 1 1 1 1 1 1 1 1 1 1 1 1 1 0 1\n",
      " 1 1 1 1 1 1 1 1 1 1 1 1 1 0 1 1 1 1]\n",
      "True Ages:\n",
      " tensor([1, 1, 1, 0, 1, 0, 0, 0, 1, 0, 0, 1, 0, 1, 1, 0, 1, 0, 0, 0, 0, 0, 1, 0,\n",
      "        0, 1, 0, 1, 1, 1, 1, 1, 0, 1, 1, 0, 0, 1, 0, 0, 0, 1, 0, 0, 0, 0, 0, 1,\n",
      "        1, 1, 0, 1, 1, 0, 0, 1, 0, 1, 1, 0, 1, 0, 1, 0, 1, 1, 0, 0, 0, 0, 0, 1,\n",
      "        0, 0, 1, 0, 0, 1, 0, 1, 0, 1, 1, 1, 1, 1, 0, 1, 1, 1, 1, 0, 1, 0, 1, 0,\n",
      "        1, 1, 1, 1, 0, 0, 1, 0, 0, 0, 1, 1, 0, 1, 1, 1, 0, 0, 1, 1, 1, 0, 1, 0,\n",
      "        1, 0, 1, 0, 1, 0, 1, 0, 1, 0, 1, 0, 0, 1, 0, 1, 1, 1, 1, 0, 0, 1, 1, 1,\n",
      "        1, 1, 1, 1, 0, 0, 1, 0, 1, 0, 0, 1, 1, 1, 0, 0, 1, 0, 0, 0, 1, 1, 0, 1,\n",
      "        1, 1, 1, 0, 1, 0, 0, 0, 0, 1, 0, 0, 1, 1, 0, 1, 0, 1, 0, 1, 1, 0, 1, 1,\n",
      "        1, 1, 0, 1, 1, 0, 0, 1, 1, 1, 0, 0, 0, 1, 0, 1, 0, 0, 1, 0, 1, 1, 1, 1,\n",
      "        1, 0, 1, 0, 0, 1, 0, 0, 0, 1, 0, 0, 1, 0, 1, 0, 1, 1, 1, 0, 1, 0, 1, 1,\n",
      "        1, 0, 0, 1, 0, 1, 1, 1, 1, 1, 0, 0, 1, 1, 1, 0, 1, 1, 1, 0, 0, 1, 0, 1,\n",
      "        1, 1, 1, 0, 0, 0, 1, 0, 1, 0, 0, 0, 0, 0, 1, 0, 1, 1, 1, 1, 0, 1, 0, 0,\n",
      "        0, 0, 1, 0, 0, 0, 0, 0, 1, 0, 1, 1, 0, 1, 0, 1, 0, 0, 0, 1, 0, 0, 0, 1,\n",
      "        1, 0, 0, 0, 0, 1, 0, 1, 0, 0, 0, 1, 1, 0, 0, 0, 1, 0, 1, 1, 1, 0, 0, 1,\n",
      "        1, 1, 0, 0, 0, 0, 1, 1, 1, 0, 0, 1, 1, 1, 0])\n",
      "Accuracy score:  51 %\n",
      "              precision    recall  f1-score   support\n",
      "\n",
      "           0       0.67      0.03      0.07       172\n",
      "           1       0.51      0.98      0.68       179\n",
      "\n",
      "    accuracy                           0.52       351\n",
      "   macro avg       0.59      0.51      0.37       351\n",
      "weighted avg       0.59      0.52      0.38       351\n",
      "\n",
      "elapsed time: 120.75007390975952\n",
      "-------------------------------------------\n",
      "Training model B: Freeze + Fine-tune \n"
     ]
    },
    {
     "name": "stderr",
     "output_type": "stream",
     "text": [
      "/mistgpu/site-packages/transformers/optimization.py:306: FutureWarning: This implementation of AdamW is deprecated and will be removed in a future version. Use the PyTorch implementation torch.optim.AdamW instead, or set `no_deprecation_warning=True` to disable this warning\n",
      "  warnings.warn(\n"
     ]
    },
    {
     "name": "stdout",
     "output_type": "stream",
     "text": [
      "\n",
      " Epoch 1 / 300\n",
      "\n",
      "Training Loss: 88.519\n",
      "Validation Loss: 25.873\n",
      "\n",
      " Epoch 21 / 300\n",
      "\n",
      "Training Loss: 21.841\n",
      "Validation Loss: 19.386\n",
      "\n",
      " Epoch 41 / 300\n",
      "\n",
      "Training Loss: 24.217\n",
      "Validation Loss: 19.870\n",
      "\n",
      " Epoch 61 / 300\n",
      "\n",
      "Training Loss: 25.428\n",
      "Validation Loss: 21.938\n",
      "\n",
      " Epoch 81 / 300\n",
      "\n",
      "Training Loss: 24.793\n",
      "Validation Loss: 19.791\n",
      "\n",
      " Epoch 101 / 300\n",
      "\n",
      "Training Loss: 26.196\n",
      "Validation Loss: 23.001\n",
      "\n",
      " Epoch 121 / 300\n",
      "\n",
      "Training Loss: 25.642\n",
      "Validation Loss: 20.971\n",
      "\n",
      " Epoch 141 / 300\n",
      "\n",
      "Training Loss: 25.052\n",
      "Validation Loss: 20.849\n",
      "\n",
      " Epoch 161 / 300\n",
      "\n",
      "Training Loss: 24.998\n",
      "Validation Loss: 21.283\n",
      "\n",
      " Epoch 181 / 300\n",
      "\n",
      "Training Loss: 24.253\n",
      "Validation Loss: 21.848\n",
      "\n",
      " Epoch 201 / 300\n",
      "\n",
      "Training Loss: 24.923\n",
      "Validation Loss: 21.510\n",
      "\n",
      " Epoch 221 / 300\n",
      "\n",
      "Training Loss: 25.699\n",
      "Validation Loss: 22.236\n",
      "\n",
      " Epoch 241 / 300\n",
      "\n",
      "Training Loss: 25.695\n",
      "Validation Loss: 21.760\n",
      "\n",
      " Epoch 261 / 300\n",
      "\n",
      "Training Loss: 27.315\n",
      "Validation Loss: 20.356\n",
      "\n",
      " Epoch 281 / 300\n",
      "\n",
      "Training Loss: 25.553\n",
      "Validation Loss: 22.455\n",
      "predicted Ages:\n",
      " [1 0 1 0 1 1 1 0 0 0 0 1 0 1 0 0 0 0 0 0 1 1 0 0 0 0 0 0 0 0 0 0 0 0 1 0 0\n",
      " 0 1 1 0 0 0 1 1 0 0 1 0 1 1 1 1 0 1 1 1 1 0 0 1 1 1 0 0 0 1 0 1 0 0 0 0 0\n",
      " 0 1 0 1 0 0 0 0 0 1 1 0 0 1 0 1 1 0 0 0 1 1 1 1 0 1 0 1 1 1 0 1 1 0 1 0 0\n",
      " 1 1 0 1 1 1 0 1 1 1 1 0 1 0 0 0 1 0 0 0 1 1 0 1 1 0 1 0 1 1 0 0 0 0 1 0 1\n",
      " 0 1 0 1 1 0 1 1 0 1 0 0 1 0 0 1 1 0 0 1 1 0 0 1 1 1 0 0 0 1 1 0 1 0 1 1 0\n",
      " 1 0 0 1 1 1 0 0 1 1 1 0 0 1 0 0 0 0 0 0 0 0 1 0 1 1 1 1 0 1 0 0 0 1 0 0 0\n",
      " 0 1 0 1 1 0 0 0 0 0 0 0 0 0 0 0 1 0 1 0 0 0 0 1 0 0 1 1 0 0 1 1 0 1 0 1 0\n",
      " 0 0 1 1 1 0 1 1 0 0 0 0 0 1 0 1 0 0 0 1 0 0 0 0 1 0 0 1 1 1 0 1 0 1 0 1 0\n",
      " 1 0 0 0 1 1 0 0 1 0 1 1 1 0 0 1 1 0 1 0 0 0 0 1 1 0 1 1 0 1 0 0 0 0 0 0 1\n",
      " 0 1 0 1 1 0 0 0 0 0 1 1 1 1 0 0 0 1]\n",
      "True Ages:\n",
      " tensor([1, 1, 1, 0, 1, 0, 0, 0, 1, 0, 0, 1, 0, 1, 1, 0, 1, 0, 0, 0, 0, 0, 1, 0,\n",
      "        0, 1, 0, 1, 1, 1, 1, 1, 0, 1, 1, 0, 0, 1, 0, 0, 0, 1, 0, 0, 0, 0, 0, 1,\n",
      "        1, 1, 0, 1, 1, 0, 0, 1, 0, 1, 1, 0, 1, 0, 1, 0, 1, 1, 0, 0, 0, 0, 0, 1,\n",
      "        0, 0, 1, 0, 0, 1, 0, 1, 0, 1, 1, 1, 1, 1, 0, 1, 1, 1, 1, 0, 1, 0, 1, 0,\n",
      "        1, 1, 1, 1, 0, 0, 1, 0, 0, 0, 1, 1, 0, 1, 1, 1, 0, 0, 1, 1, 1, 0, 1, 0,\n",
      "        1, 0, 1, 0, 1, 0, 1, 0, 1, 0, 1, 0, 0, 1, 0, 1, 1, 1, 1, 0, 0, 1, 1, 1,\n",
      "        1, 1, 1, 1, 0, 0, 1, 0, 1, 0, 0, 1, 1, 1, 0, 0, 1, 0, 0, 0, 1, 1, 0, 1,\n",
      "        1, 1, 1, 0, 1, 0, 0, 0, 0, 1, 0, 0, 1, 1, 0, 1, 0, 1, 0, 1, 1, 0, 1, 1,\n",
      "        1, 1, 0, 1, 1, 0, 0, 1, 1, 1, 0, 0, 0, 1, 0, 1, 0, 0, 1, 0, 1, 1, 1, 1,\n",
      "        1, 0, 1, 0, 0, 1, 0, 0, 0, 1, 0, 0, 1, 0, 1, 0, 1, 1, 1, 0, 1, 0, 1, 1,\n",
      "        1, 0, 0, 1, 0, 1, 1, 1, 1, 1, 0, 0, 1, 1, 1, 0, 1, 1, 1, 0, 0, 1, 0, 1,\n",
      "        1, 1, 1, 0, 0, 0, 1, 0, 1, 0, 0, 0, 0, 0, 1, 0, 1, 1, 1, 1, 0, 1, 0, 0,\n",
      "        0, 0, 1, 0, 0, 0, 0, 0, 1, 0, 1, 1, 0, 1, 0, 1, 0, 0, 0, 1, 0, 0, 0, 1,\n",
      "        1, 0, 0, 0, 0, 1, 0, 1, 0, 0, 0, 1, 1, 0, 0, 0, 1, 0, 1, 1, 1, 0, 0, 1,\n",
      "        1, 1, 0, 0, 0, 0, 1, 1, 1, 0, 0, 1, 1, 1, 0])\n",
      "Accuracy score:  54 %\n",
      "              precision    recall  f1-score   support\n",
      "\n",
      "           0       0.54      0.62      0.58       172\n",
      "           1       0.57      0.48      0.52       179\n",
      "\n",
      "    accuracy                           0.55       351\n",
      "   macro avg       0.55      0.55      0.55       351\n",
      "weighted avg       0.55      0.55      0.55       351\n",
      "\n",
      "elapsed time: 593.2105603218079\n",
      "-------------------------------------------\n",
      "Training model C: Fine-tune all \n"
     ]
    },
    {
     "name": "stderr",
     "output_type": "stream",
     "text": [
      "/mistgpu/site-packages/transformers/optimization.py:306: FutureWarning: This implementation of AdamW is deprecated and will be removed in a future version. Use the PyTorch implementation torch.optim.AdamW instead, or set `no_deprecation_warning=True` to disable this warning\n",
      "  warnings.warn(\n"
     ]
    },
    {
     "name": "stdout",
     "output_type": "stream",
     "text": [
      "\n",
      " Epoch 1 / 300\n",
      "\n",
      "Training Loss: 39.147\n",
      "Validation Loss: 2.943\n",
      "\n",
      " Epoch 21 / 300\n",
      "\n",
      "Training Loss: 0.745\n",
      "Validation Loss: 0.693\n",
      "\n",
      " Epoch 41 / 300\n",
      "\n",
      "Training Loss: 0.730\n",
      "Validation Loss: 0.693\n",
      "\n",
      " Epoch 61 / 300\n",
      "\n",
      "Training Loss: 0.733\n",
      "Validation Loss: 0.693\n",
      "\n",
      " Epoch 81 / 300\n",
      "\n",
      "Training Loss: 0.722\n",
      "Validation Loss: 0.693\n",
      "\n",
      " Epoch 101 / 300\n",
      "\n",
      "Training Loss: 0.718\n",
      "Validation Loss: 0.693\n",
      "\n",
      " Epoch 121 / 300\n",
      "\n",
      "Training Loss: 0.717\n",
      "Validation Loss: 0.693\n",
      "\n",
      " Epoch 141 / 300\n",
      "\n",
      "Training Loss: 0.716\n",
      "Validation Loss: 0.693\n",
      "\n",
      " Epoch 161 / 300\n",
      "\n",
      "Training Loss: 0.716\n",
      "Validation Loss: 0.693\n",
      "\n",
      " Epoch 181 / 300\n",
      "\n",
      "Training Loss: 0.712\n",
      "Validation Loss: 0.693\n",
      "\n",
      " Epoch 201 / 300\n",
      "\n",
      "Training Loss: 0.711\n",
      "Validation Loss: 0.693\n",
      "\n",
      " Epoch 221 / 300\n",
      "\n",
      "Training Loss: 0.713\n",
      "Validation Loss: 0.693\n",
      "\n",
      " Epoch 241 / 300\n",
      "\n",
      "Training Loss: 0.708\n",
      "Validation Loss: 0.693\n",
      "\n",
      " Epoch 261 / 300\n",
      "\n",
      "Training Loss: 0.712\n",
      "Validation Loss: 0.693\n",
      "\n",
      " Epoch 281 / 300\n",
      "\n",
      "Training Loss: 0.708\n",
      "Validation Loss: 0.693\n",
      "predicted Ages:\n",
      " [1 1 0 1 0 1 1 1 1 1 1 0 0 0 1 0 0 1 1 0 1 1 1 0 1 1 0 1 1 1 1 0 1 0 1 1 1\n",
      " 1 1 0 1 0 0 0 1 1 1 1 1 1 0 0 0 0 0 0 1 0 1 1 1 1 1 1 1 0 1 1 1 0 1 0 1 1\n",
      " 0 0 0 0 0 1 1 1 0 1 1 1 1 1 1 0 0 1 1 1 0 0 1 0 0 1 1 0 0 1 0 1 1 0 1 1 1\n",
      " 1 0 1 0 1 0 0 1 1 1 0 0 1 1 0 0 0 1 1 0 0 0 1 1 1 1 1 1 1 1 0 1 1 1 1 1 1\n",
      " 0 1 0 1 0 0 0 1 1 1 0 0 1 0 1 1 0 1 0 1 1 0 1 1 1 1 1 0 1 0 0 0 0 1 0 1 0\n",
      " 0 1 1 0 0 0 0 0 1 1 1 1 1 1 1 1 1 1 1 1 1 1 1 1 1 1 0 0 1 0 1 0 1 0 0 0 1\n",
      " 0 0 1 1 1 1 0 1 1 0 1 0 1 0 0 0 1 1 0 1 0 0 1 1 1 1 0 1 1 0 1 1 0 1 0 1 1\n",
      " 0 1 1 1 0 0 0 1 0 1 1 0 1 0 0 0 1 1 0 1 1 0 0 1 1 1 1 1 1 1 0 0 1 0 1 0 0\n",
      " 1 1 1 1 1 1 1 0 0 1 0 0 1 0 0 0 0 1 1 0 1 0 1 0 0 1 0 1 1 0 1 1 0 1 1 1 1\n",
      " 0 0 0 1 1 1 1 1 1 0 1 0 1 0 0 0 1 0]\n",
      "True Ages:\n",
      " tensor([1, 1, 1, 0, 1, 0, 0, 0, 1, 0, 0, 1, 0, 1, 1, 0, 1, 0, 0, 0, 0, 0, 1, 0,\n",
      "        0, 1, 0, 1, 1, 1, 1, 1, 0, 1, 1, 0, 0, 1, 0, 0, 0, 1, 0, 0, 0, 0, 0, 1,\n",
      "        1, 1, 0, 1, 1, 0, 0, 1, 0, 1, 1, 0, 1, 0, 1, 0, 1, 1, 0, 0, 0, 0, 0, 1,\n",
      "        0, 0, 1, 0, 0, 1, 0, 1, 0, 1, 1, 1, 1, 1, 0, 1, 1, 1, 1, 0, 1, 0, 1, 0,\n",
      "        1, 1, 1, 1, 0, 0, 1, 0, 0, 0, 1, 1, 0, 1, 1, 1, 0, 0, 1, 1, 1, 0, 1, 0,\n",
      "        1, 0, 1, 0, 1, 0, 1, 0, 1, 0, 1, 0, 0, 1, 0, 1, 1, 1, 1, 0, 0, 1, 1, 1,\n",
      "        1, 1, 1, 1, 0, 0, 1, 0, 1, 0, 0, 1, 1, 1, 0, 0, 1, 0, 0, 0, 1, 1, 0, 1,\n",
      "        1, 1, 1, 0, 1, 0, 0, 0, 0, 1, 0, 0, 1, 1, 0, 1, 0, 1, 0, 1, 1, 0, 1, 1,\n",
      "        1, 1, 0, 1, 1, 0, 0, 1, 1, 1, 0, 0, 0, 1, 0, 1, 0, 0, 1, 0, 1, 1, 1, 1,\n",
      "        1, 0, 1, 0, 0, 1, 0, 0, 0, 1, 0, 0, 1, 0, 1, 0, 1, 1, 1, 0, 1, 0, 1, 1,\n",
      "        1, 0, 0, 1, 0, 1, 1, 1, 1, 1, 0, 0, 1, 1, 1, 0, 1, 1, 1, 0, 0, 1, 0, 1,\n",
      "        1, 1, 1, 0, 0, 0, 1, 0, 1, 0, 0, 0, 0, 0, 1, 0, 1, 1, 1, 1, 0, 1, 0, 0,\n",
      "        0, 0, 1, 0, 0, 0, 0, 0, 1, 0, 1, 1, 0, 1, 0, 1, 0, 0, 0, 1, 0, 0, 0, 1,\n",
      "        1, 0, 0, 0, 0, 1, 0, 1, 0, 0, 0, 1, 1, 0, 0, 0, 1, 0, 1, 1, 1, 0, 0, 1,\n",
      "        1, 1, 0, 0, 0, 0, 1, 1, 1, 0, 0, 1, 1, 1, 0])\n",
      "Accuracy score:  49 %\n",
      "              precision    recall  f1-score   support\n",
      "\n",
      "           0       0.49      0.40      0.44       172\n",
      "           1       0.51      0.59      0.55       179\n",
      "\n",
      "    accuracy                           0.50       351\n",
      "   macro avg       0.50      0.50      0.49       351\n",
      "weighted avg       0.50      0.50      0.49       351\n",
      "\n",
      "elapsed time: 853.9372844696045\n",
      "-------------------------------------------\n"
     ]
    }
   ],
   "source": [
    "# optimizer from hugging face transformers\n",
    "import time\n",
    "from transformers import AdamW\n",
    "\n",
    "# number of training epochs\n",
    "epochs = 300\n",
    "\n",
    "########################### Model A ############################\n",
    "print(\"Training model A: MLP \")\n",
    "start_time = time.time()\n",
    "modelA = BERT_Arch(pre_trained_model,300) # Initialize the fine-tuning model\n",
    "modelA = modelA.to(device)\n",
    "# define the optimizer\n",
    "optimizer = AdamW(modelA.parameters(), lr = 1e-3)\n",
    "train_losses, valid_losses, modelA = start(modelA, True, epochs)# True here means we want to turn off \n",
    "                                                        # transfer learning, and use the simple MLP model\n",
    "elapsed_time = (time.time() - start_time)\n",
    "get_accuracy(modelA, True)\n",
    "print(\"elapsed time:\" ,elapsed_time)\n",
    "print(\"-------------------------------------------\")\n",
    "\n",
    "########################### Model B ############################\n",
    "print(\"Training model B: Freeze + Fine-tune \")\n",
    "start_time = time.time()\n",
    "# pass the pre-trained RecoBERT to our define architecture\n",
    "modelB = BERT_Arch(pre_trained_model,300)\n",
    "modelB = modelB.to(device)\n",
    "# define the optimizer\n",
    "optimizer = AdamW(modelB.parameters(), lr = 1e-3)\n",
    "train_losses2, valid_losses2, modelB = start(modelB,False, epochs) \n",
    "elapsed_time = (time.time() - start_time)\n",
    "get_accuracy(modelB, False)\n",
    "print(\"elapsed time:\" ,elapsed_time)\n",
    "print(\"-------------------------------------------\")\n",
    "\n",
    "\n",
    "############################# Model C ############################\n",
    "print(\"Training model C: Fine-tune all \")\n",
    "#epochs = 10\n",
    "start_time = time.time()\n",
    "# Unfreeze pre-trained weights\n",
    "for param in pre_trained_model.parameters():\n",
    "     param.requires_grad = True\n",
    "modelC = BERT_Arch(pre_trained_model,300)\n",
    "modelC = modelC.to(device)\n",
    "# define the optimizer\n",
    "optimizer = AdamW(modelC.parameters(), lr = 1e-3)\n",
    "train_losses3, valid_losses3, modelC = start(modelC,False, epochs)\n",
    "elapsed_time = (time.time() - start_time)\n",
    "get_accuracy(modelC, False)\n",
    "print(\"elapsed time:\" ,elapsed_time)\n",
    "print(\"-------------------------------------------\")\n",
    "\n"
   ]
  },
  {
   "cell_type": "code",
   "execution_count": 60,
   "metadata": {},
   "outputs": [
    {
     "data": {
      "image/png": "[encoded data removed]",
      "text/plain": [
       "<Figure size 720x504 with 1 Axes>"
      ]
     },
     "metadata": {
      "needs_background": "light"
     },
     "output_type": "display_data"
    }
   ],
   "source": [
    "epochs_plot = range(1, epochs+1)\n",
    "fig, axes = plt.subplots(nrows=1, ncols=1, figsize=(10, 7))\n",
    "axes.plot(epochs_plot, valid_losses, 'g', label='MLP')\n",
    "axes.plot(epochs_plot, valid_losses2, 'b', label='Freeze + Fine-tune ')\n",
    "axes.plot(epochs_plot, valid_losses3, 'm', label='Fine-tune all')\n",
    "axes.set(ylabel='Loss')\n",
    "axes.set(xlabel='Epochs')\n",
    "axes.legend(loc='upper right')\n",
    "axes.set_title('Fine-Tuning Validation Loss')\n",
    "plt.axis([1, 300, 0, 2])\n",
    "plt.savefig('Gendernewloss1.jpg')"
   ]
  },
  {
   "cell_type": "code",
   "execution_count": null,
   "metadata": {},
   "outputs": [],
   "source": []
  }
 ],
 "metadata": {
  "accelerator": "GPU",
  "colab": {
   "authorship_tag": "ABX9TyOt9x7x5Cm/ENCEI4+c+LvL",
   "include_colab_link": true,
   "name": "Fine-Tuning BERT for Spam Classification.ipynb",
   "provenance": []
  },
  "kernelspec": {
   "display_name": "Python 3 (ipykernel)",
   "language": "python",
   "name": "python3"
  },
  "language_info": {
   "codemirror_mode": {
    "name": "ipython",
    "version": 3
   },
   "file_extension": ".py",
   "mimetype": "text/x-python",
   "name": "python",
   "nbconvert_exporter": "python",
   "pygments_lexer": "ipython3",
   "version": "3.7.13"
  },
  "widgets": {
   "application/vnd.jupyter.widget-state+json": {
    "0e580433bec2453da54c0ce9ee027401": {
     "model_module": "@jupyter-widgets/controls",
     "model_name": "HBoxModel",
     "state": {
      "_dom_classes": [],
      "_model_module": "@jupyter-widgets/controls",
      "_model_module_version": "1.5.0",
      "_model_name": "HBoxModel",
      "_view_count": null,
      "_view_module": "@jupyter-widgets/controls",
      "_view_module_version": "1.5.0",
      "_view_name": "HBoxView",
      "box_style": "",
      "children": [
       "IPY_MODEL_73fc7587f1bb49df8a0fc87ecfac7f3c",
       "IPY_MODEL_4da1c15300b2468ab1a7e2df800ed39b"
      ],
      "layout": "IPY_MODEL_bdfd7634b8bf42aa8794ada8d9e47173"
     }
    },
    "3bb6b624b4ce4be788c38cb8d1936177": {
     "model_module": "@jupyter-widgets/base",
     "model_name": "LayoutModel",
     "state": {
      "_model_module": "@jupyter-widgets/base",
      "_model_module_version": "1.2.0",
      "_model_name": "LayoutModel",
      "_view_count": null,
      "_view_module": "@jupyter-widgets/base",
      "_view_module_version": "1.2.0",
      "_view_name": "LayoutView",
      "align_content": null,
      "align_items": null,
      "align_self": null,
      "border": null,
      "bottom": null,
      "display": null,
      "flex": null,
      "flex_flow": null,
      "grid_area": null,
      "grid_auto_columns": null,
      "grid_auto_flow": null,
      "grid_auto_rows": null,
      "grid_column": null,
      "grid_gap": null,
      "grid_row": null,
      "grid_template_areas": null,
      "grid_template_columns": null,
      "grid_template_rows": null,
      "height": null,
      "justify_content": null,
      "justify_items": null,
      "left": null,
      "margin": null,
      "max_height": null,
      "max_width": null,
      "min_height": null,
      "min_width": null,
      "object_fit": null,
      "object_position": null,
      "order": null,
      "overflow": null,
      "overflow_x": null,
      "overflow_y": null,
      "padding": null,
      "right": null,
      "top": null,
      "visibility": null,
      "width": null
     }
    },
    "47862cd626cf46619a5cc505fde02276": {
     "model_module": "@jupyter-widgets/base",
     "model_name": "LayoutModel",
     "state": {
      "_model_module": "@jupyter-widgets/base",
      "_model_module_version": "1.2.0",
      "_model_name": "LayoutModel",
      "_view_count": null,
      "_view_module": "@jupyter-widgets/base",
      "_view_module_version": "1.2.0",
      "_view_name": "LayoutView",
      "align_content": null,
      "align_items": null,
      "align_self": null,
      "border": null,
      "bottom": null,
      "display": null,
      "flex": null,
      "flex_flow": null,
      "grid_area": null,
      "grid_auto_columns": null,
      "grid_auto_flow": null,
      "grid_auto_rows": null,
      "grid_column": null,
      "grid_gap": null,
      "grid_row": null,
      "grid_template_areas": null,
      "grid_template_columns": null,
      "grid_template_rows": null,
      "height": null,
      "justify_content": null,
      "justify_items": null,
      "left": null,
      "margin": null,
      "max_height": null,
      "max_width": null,
      "min_height": null,
      "min_width": null,
      "object_fit": null,
      "object_position": null,
      "order": null,
      "overflow": null,
      "overflow_x": null,
      "overflow_y": null,
      "padding": null,
      "right": null,
      "top": null,
      "visibility": null,
      "width": null
     }
    },
    "49dd79a9a65044ba8345deb250ce4b24": {
     "model_module": "@jupyter-widgets/controls",
     "model_name": "ProgressStyleModel",
     "state": {
      "_model_module": "@jupyter-widgets/controls",
      "_model_module_version": "1.5.0",
      "_model_name": "ProgressStyleModel",
      "_view_count": null,
      "_view_module": "@jupyter-widgets/base",
      "_view_module_version": "1.2.0",
      "_view_name": "StyleView",
      "bar_color": null,
      "description_width": "initial"
     }
    },
    "4d56a47453914de3be15d7a515e5b210": {
     "model_module": "@jupyter-widgets/controls",
     "model_name": "ProgressStyleModel",
     "state": {
      "_model_module": "@jupyter-widgets/controls",
      "_model_module_version": "1.5.0",
      "_model_name": "ProgressStyleModel",
      "_view_count": null,
      "_view_module": "@jupyter-widgets/base",
      "_view_module_version": "1.2.0",
      "_view_name": "StyleView",
      "bar_color": null,
      "description_width": "initial"
     }
    },
    "4da1c15300b2468ab1a7e2df800ed39b": {
     "model_module": "@jupyter-widgets/controls",
     "model_name": "HTMLModel",
     "state": {
      "_dom_classes": [],
      "_model_module": "@jupyter-widgets/controls",
      "_model_module_version": "1.5.0",
      "_model_name": "HTMLModel",
      "_view_count": null,
      "_view_module": "@jupyter-widgets/controls",
      "_view_module_version": "1.5.0",
      "_view_name": "HTMLView",
      "description": "",
      "description_tooltip": null,
      "layout": "IPY_MODEL_88214abee8b9462f86369072d858ae9f",
      "placeholder": "​",
      "style": "IPY_MODEL_ed9f97f9d12a49aa939b7595ad3cb27c",
      "value": " 440M/440M [00:11&lt;00:00, 37.5MB/s]"
     }
    },
    "58cd585c531444a5b8613c2d85bab022": {
     "model_module": "@jupyter-widgets/controls",
     "model_name": "DescriptionStyleModel",
     "state": {
      "_model_module": "@jupyter-widgets/controls",
      "_model_module_version": "1.5.0",
      "_model_name": "DescriptionStyleModel",
      "_view_count": null,
      "_view_module": "@jupyter-widgets/base",
      "_view_module_version": "1.2.0",
      "_view_name": "StyleView",
      "description_width": ""
     }
    },
    "59bae99ad63d4a3a8b8d622d95f7ad07": {
     "model_module": "@jupyter-widgets/controls",
     "model_name": "FloatProgressModel",
     "state": {
      "_dom_classes": [],
      "_model_module": "@jupyter-widgets/controls",
      "_model_module_version": "1.5.0",
      "_model_name": "FloatProgressModel",
      "_view_count": null,
      "_view_module": "@jupyter-widgets/controls",
      "_view_module_version": "1.5.0",
      "_view_name": "ProgressView",
      "bar_style": "success",
      "description": "Downloading: 100%",
      "description_tooltip": null,
      "layout": "IPY_MODEL_47862cd626cf46619a5cc505fde02276",
      "max": 433,
      "min": 0,
      "orientation": "horizontal",
      "style": "IPY_MODEL_49dd79a9a65044ba8345deb250ce4b24",
      "value": 433
     }
    },
    "645d520e8a1c4f1fa202c6c68c5ce6af": {
     "model_module": "@jupyter-widgets/controls",
     "model_name": "ProgressStyleModel",
     "state": {
      "_model_module": "@jupyter-widgets/controls",
      "_model_module_version": "1.5.0",
      "_model_name": "ProgressStyleModel",
      "_view_count": null,
      "_view_module": "@jupyter-widgets/base",
      "_view_module_version": "1.2.0",
      "_view_name": "StyleView",
      "bar_color": null,
      "description_width": "initial"
     }
    },
    "6831c2b733d74b31a41cb6eb971a25d7": {
     "model_module": "@jupyter-widgets/base",
     "model_name": "LayoutModel",
     "state": {
      "_model_module": "@jupyter-widgets/base",
      "_model_module_version": "1.2.0",
      "_model_name": "LayoutModel",
      "_view_count": null,
      "_view_module": "@jupyter-widgets/base",
      "_view_module_version": "1.2.0",
      "_view_name": "LayoutView",
      "align_content": null,
      "align_items": null,
      "align_self": null,
      "border": null,
      "bottom": null,
      "display": null,
      "flex": null,
      "flex_flow": null,
      "grid_area": null,
      "grid_auto_columns": null,
      "grid_auto_flow": null,
      "grid_auto_rows": null,
      "grid_column": null,
      "grid_gap": null,
      "grid_row": null,
      "grid_template_areas": null,
      "grid_template_columns": null,
      "grid_template_rows": null,
      "height": null,
      "justify_content": null,
      "justify_items": null,
      "left": null,
      "margin": null,
      "max_height": null,
      "max_width": null,
      "min_height": null,
      "min_width": null,
      "object_fit": null,
      "object_position": null,
      "order": null,
      "overflow": null,
      "overflow_x": null,
      "overflow_y": null,
      "padding": null,
      "right": null,
      "top": null,
      "visibility": null,
      "width": null
     }
    },
    "689e66a8dff249449b5f0f5bbfffa037": {
     "model_module": "@jupyter-widgets/controls",
     "model_name": "HTMLModel",
     "state": {
      "_dom_classes": [],
      "_model_module": "@jupyter-widgets/controls",
      "_model_module_version": "1.5.0",
      "_model_name": "HTMLModel",
      "_view_count": null,
      "_view_module": "@jupyter-widgets/controls",
      "_view_module_version": "1.5.0",
      "_view_name": "HTMLView",
      "description": "",
      "description_tooltip": null,
      "layout": "IPY_MODEL_6d2355752eb74f348596a380d2347b73",
      "placeholder": "​",
      "style": "IPY_MODEL_cb5f7a2a5bcb47649703cc633f2fb685",
      "value": " 433/433 [00:00&lt;00:00, 1.98kB/s]"
     }
    },
    "6d2355752eb74f348596a380d2347b73": {
     "model_module": "@jupyter-widgets/base",
     "model_name": "LayoutModel",
     "state": {
      "_model_module": "@jupyter-widgets/base",
      "_model_module_version": "1.2.0",
      "_model_name": "LayoutModel",
      "_view_count": null,
      "_view_module": "@jupyter-widgets/base",
      "_view_module_version": "1.2.0",
      "_view_name": "LayoutView",
      "align_content": null,
      "align_items": null,
      "align_self": null,
      "border": null,
      "bottom": null,
      "display": null,
      "flex": null,
      "flex_flow": null,
      "grid_area": null,
      "grid_auto_columns": null,
      "grid_auto_flow": null,
      "grid_auto_rows": null,
      "grid_column": null,
      "grid_gap": null,
      "grid_row": null,
      "grid_template_areas": null,
      "grid_template_columns": null,
      "grid_template_rows": null,
      "height": null,
      "justify_content": null,
      "justify_items": null,
      "left": null,
      "margin": null,
      "max_height": null,
      "max_width": null,
      "min_height": null,
      "min_width": null,
      "object_fit": null,
      "object_position": null,
      "order": null,
      "overflow": null,
      "overflow_x": null,
      "overflow_y": null,
      "padding": null,
      "right": null,
      "top": null,
      "visibility": null,
      "width": null
     }
    },
    "73fc7587f1bb49df8a0fc87ecfac7f3c": {
     "model_module": "@jupyter-widgets/controls",
     "model_name": "FloatProgressModel",
     "state": {
      "_dom_classes": [],
      "_model_module": "@jupyter-widgets/controls",
      "_model_module_version": "1.5.0",
      "_model_name": "FloatProgressModel",
      "_view_count": null,
      "_view_module": "@jupyter-widgets/controls",
      "_view_module_version": "1.5.0",
      "_view_name": "ProgressView",
      "bar_style": "success",
      "description": "Downloading: 100%",
      "description_tooltip": null,
      "layout": "IPY_MODEL_3bb6b624b4ce4be788c38cb8d1936177",
      "max": 440473133,
      "min": 0,
      "orientation": "horizontal",
      "style": "IPY_MODEL_645d520e8a1c4f1fa202c6c68c5ce6af",
      "value": 440473133
     }
    },
    "88214abee8b9462f86369072d858ae9f": {
     "model_module": "@jupyter-widgets/base",
     "model_name": "LayoutModel",
     "state": {
      "_model_module": "@jupyter-widgets/base",
      "_model_module_version": "1.2.0",
      "_model_name": "LayoutModel",
      "_view_count": null,
      "_view_module": "@jupyter-widgets/base",
      "_view_module_version": "1.2.0",
      "_view_name": "LayoutView",
      "align_content": null,
      "align_items": null,
      "align_self": null,
      "border": null,
      "bottom": null,
      "display": null,
      "flex": null,
      "flex_flow": null,
      "grid_area": null,
      "grid_auto_columns": null,
      "grid_auto_flow": null,
      "grid_auto_rows": null,
      "grid_column": null,
      "grid_gap": null,
      "grid_row": null,
      "grid_template_areas": null,
      "grid_template_columns": null,
      "grid_template_rows": null,
      "height": null,
      "justify_content": null,
      "justify_items": null,
      "left": null,
      "margin": null,
      "max_height": null,
      "max_width": null,
      "min_height": null,
      "min_width": null,
      "object_fit": null,
      "object_position": null,
      "order": null,
      "overflow": null,
      "overflow_x": null,
      "overflow_y": null,
      "padding": null,
      "right": null,
      "top": null,
      "visibility": null,
      "width": null
     }
    },
    "8cf06dad410440f78c50e3527e858905": {
     "model_module": "@jupyter-widgets/controls",
     "model_name": "FloatProgressModel",
     "state": {
      "_dom_classes": [],
      "_model_module": "@jupyter-widgets/controls",
      "_model_module_version": "1.5.0",
      "_model_name": "FloatProgressModel",
      "_view_count": null,
      "_view_module": "@jupyter-widgets/controls",
      "_view_module_version": "1.5.0",
      "_view_name": "ProgressView",
      "bar_style": "success",
      "description": "Downloading: 100%",
      "description_tooltip": null,
      "layout": "IPY_MODEL_6831c2b733d74b31a41cb6eb971a25d7",
      "max": 231508,
      "min": 0,
      "orientation": "horizontal",
      "style": "IPY_MODEL_4d56a47453914de3be15d7a515e5b210",
      "value": 231508
     }
    },
    "94264f36ceb64d3881fed952bf579072": {
     "model_module": "@jupyter-widgets/base",
     "model_name": "LayoutModel",
     "state": {
      "_model_module": "@jupyter-widgets/base",
      "_model_module_version": "1.2.0",
      "_model_name": "LayoutModel",
      "_view_count": null,
      "_view_module": "@jupyter-widgets/base",
      "_view_module_version": "1.2.0",
      "_view_name": "LayoutView",
      "align_content": null,
      "align_items": null,
      "align_self": null,
      "border": null,
      "bottom": null,
      "display": null,
      "flex": null,
      "flex_flow": null,
      "grid_area": null,
      "grid_auto_columns": null,
      "grid_auto_flow": null,
      "grid_auto_rows": null,
      "grid_column": null,
      "grid_gap": null,
      "grid_row": null,
      "grid_template_areas": null,
      "grid_template_columns": null,
      "grid_template_rows": null,
      "height": null,
      "justify_content": null,
      "justify_items": null,
      "left": null,
      "margin": null,
      "max_height": null,
      "max_width": null,
      "min_height": null,
      "min_width": null,
      "object_fit": null,
      "object_position": null,
      "order": null,
      "overflow": null,
      "overflow_x": null,
      "overflow_y": null,
      "padding": null,
      "right": null,
      "top": null,
      "visibility": null,
      "width": null
     }
    },
    "983fea7c2dc74dfaba7aa60147af85d1": {
     "model_module": "@jupyter-widgets/controls",
     "model_name": "HBoxModel",
     "state": {
      "_dom_classes": [],
      "_model_module": "@jupyter-widgets/controls",
      "_model_module_version": "1.5.0",
      "_model_name": "HBoxModel",
      "_view_count": null,
      "_view_module": "@jupyter-widgets/controls",
      "_view_module_version": "1.5.0",
      "_view_name": "HBoxView",
      "box_style": "",
      "children": [
       "IPY_MODEL_59bae99ad63d4a3a8b8d622d95f7ad07",
       "IPY_MODEL_689e66a8dff249449b5f0f5bbfffa037"
      ],
      "layout": "IPY_MODEL_ccf5f7e5cc10493ca9c44b14fdec31dc"
     }
    },
    "b4bef5a685954e238b52c43eefe4c9e5": {
     "model_module": "@jupyter-widgets/controls",
     "model_name": "HBoxModel",
     "state": {
      "_dom_classes": [],
      "_model_module": "@jupyter-widgets/controls",
      "_model_module_version": "1.5.0",
      "_model_name": "HBoxModel",
      "_view_count": null,
      "_view_module": "@jupyter-widgets/controls",
      "_view_module_version": "1.5.0",
      "_view_name": "HBoxView",
      "box_style": "",
      "children": [
       "IPY_MODEL_8cf06dad410440f78c50e3527e858905",
       "IPY_MODEL_edf0e4c1ae214a66abb717b20e3bffad"
      ],
      "layout": "IPY_MODEL_94264f36ceb64d3881fed952bf579072"
     }
    },
    "b6423c858927455e8cbc5a953273466a": {
     "model_module": "@jupyter-widgets/base",
     "model_name": "LayoutModel",
     "state": {
      "_model_module": "@jupyter-widgets/base",
      "_model_module_version": "1.2.0",
      "_model_name": "LayoutModel",
      "_view_count": null,
      "_view_module": "@jupyter-widgets/base",
      "_view_module_version": "1.2.0",
      "_view_name": "LayoutView",
      "align_content": null,
      "align_items": null,
      "align_self": null,
      "border": null,
      "bottom": null,
      "display": null,
      "flex": null,
      "flex_flow": null,
      "grid_area": null,
      "grid_auto_columns": null,
      "grid_auto_flow": null,
      "grid_auto_rows": null,
      "grid_column": null,
      "grid_gap": null,
      "grid_row": null,
      "grid_template_areas": null,
      "grid_template_columns": null,
      "grid_template_rows": null,
      "height": null,
      "justify_content": null,
      "justify_items": null,
      "left": null,
      "margin": null,
      "max_height": null,
      "max_width": null,
      "min_height": null,
      "min_width": null,
      "object_fit": null,
      "object_position": null,
      "order": null,
      "overflow": null,
      "overflow_x": null,
      "overflow_y": null,
      "padding": null,
      "right": null,
      "top": null,
      "visibility": null,
      "width": null
     }
    },
    "bdfd7634b8bf42aa8794ada8d9e47173": {
     "model_module": "@jupyter-widgets/base",
     "model_name": "LayoutModel",
     "state": {
      "_model_module": "@jupyter-widgets/base",
      "_model_module_version": "1.2.0",
      "_model_name": "LayoutModel",
      "_view_count": null,
      "_view_module": "@jupyter-widgets/base",
      "_view_module_version": "1.2.0",
      "_view_name": "LayoutView",
      "align_content": null,
      "align_items": null,
      "align_self": null,
      "border": null,
      "bottom": null,
      "display": null,
      "flex": null,
      "flex_flow": null,
      "grid_area": null,
      "grid_auto_columns": null,
      "grid_auto_flow": null,
      "grid_auto_rows": null,
      "grid_column": null,
      "grid_gap": null,
      "grid_row": null,
      "grid_template_areas": null,
      "grid_template_columns": null,
      "grid_template_rows": null,
      "height": null,
      "justify_content": null,
      "justify_items": null,
      "left": null,
      "margin": null,
      "max_height": null,
      "max_width": null,
      "min_height": null,
      "min_width": null,
      "object_fit": null,
      "object_position": null,
      "order": null,
      "overflow": null,
      "overflow_x": null,
      "overflow_y": null,
      "padding": null,
      "right": null,
      "top": null,
      "visibility": null,
      "width": null
     }
    },
    "cb5f7a2a5bcb47649703cc633f2fb685": {
     "model_module": "@jupyter-widgets/controls",
     "model_name": "DescriptionStyleModel",
     "state": {
      "_model_module": "@jupyter-widgets/controls",
      "_model_module_version": "1.5.0",
      "_model_name": "DescriptionStyleModel",
      "_view_count": null,
      "_view_module": "@jupyter-widgets/base",
      "_view_module_version": "1.2.0",
      "_view_name": "StyleView",
      "description_width": ""
     }
    },
    "ccf5f7e5cc10493ca9c44b14fdec31dc": {
     "model_module": "@jupyter-widgets/base",
     "model_name": "LayoutModel",
     "state": {
      "_model_module": "@jupyter-widgets/base",
      "_model_module_version": "1.2.0",
      "_model_name": "LayoutModel",
      "_view_count": null,
      "_view_module": "@jupyter-widgets/base",
      "_view_module_version": "1.2.0",
      "_view_name": "LayoutView",
      "align_content": null,
      "align_items": null,
      "align_self": null,
      "border": null,
      "bottom": null,
      "display": null,
      "flex": null,
      "flex_flow": null,
      "grid_area": null,
      "grid_auto_columns": null,
      "grid_auto_flow": null,
      "grid_auto_rows": null,
      "grid_column": null,
      "grid_gap": null,
      "grid_row": null,
      "grid_template_areas": null,
      "grid_template_columns": null,
      "grid_template_rows": null,
      "height": null,
      "justify_content": null,
      "justify_items": null,
      "left": null,
      "margin": null,
      "max_height": null,
      "max_width": null,
      "min_height": null,
      "min_width": null,
      "object_fit": null,
      "object_position": null,
      "order": null,
      "overflow": null,
      "overflow_x": null,
      "overflow_y": null,
      "padding": null,
      "right": null,
      "top": null,
      "visibility": null,
      "width": null
     }
    },
    "ed9f97f9d12a49aa939b7595ad3cb27c": {
     "model_module": "@jupyter-widgets/controls",
     "model_name": "DescriptionStyleModel",
     "state": {
      "_model_module": "@jupyter-widgets/controls",
      "_model_module_version": "1.5.0",
      "_model_name": "DescriptionStyleModel",
      "_view_count": null,
      "_view_module": "@jupyter-widgets/base",
      "_view_module_version": "1.2.0",
      "_view_name": "StyleView",
      "description_width": ""
     }
    },
    "edf0e4c1ae214a66abb717b20e3bffad": {
     "model_module": "@jupyter-widgets/controls",
     "model_name": "HTMLModel",
     "state": {
      "_dom_classes": [],
      "_model_module": "@jupyter-widgets/controls",
      "_model_module_version": "1.5.0",
      "_model_name": "HTMLModel",
      "_view_count": null,
      "_view_module": "@jupyter-widgets/controls",
      "_view_module_version": "1.5.0",
      "_view_name": "HTMLView",
      "description": "",
      "description_tooltip": null,
      "layout": "IPY_MODEL_b6423c858927455e8cbc5a953273466a",
      "placeholder": "​",
      "style": "IPY_MODEL_58cd585c531444a5b8613c2d85bab022",
      "value": " 232k/232k [00:39&lt;00:00, 5.82kB/s]"
     }
    }
   }
  }
 },
 "nbformat": 4,
 "nbformat_minor": 4
}
